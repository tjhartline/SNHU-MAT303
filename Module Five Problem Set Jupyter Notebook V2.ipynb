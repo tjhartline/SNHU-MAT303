{
 "cells": [
  {
   "cell_type": "markdown",
   "metadata": {
    "deletable": false,
    "editable": false
   },
   "source": [
    "# Module Five Problem Set: Logistic Regression\n",
    "\n",
    "In this notebook, you have been given a set of steps that will show you how to create a logistic regression model in R. It is very important to run the steps in order. Some steps depend on the outputs of earlier steps. Once you have run all the steps, you will be asked to create your own logistic regression model to help you answer the questions in the Module Five Problem Set. You are expected to write the R script yourself to answer these questions.\n",
    "\n",
    "Reminder: If you have not already reviewed the Problem Set Report template for your Module Five Problem Set, be sure to do so now. That will give you an idea of the questions you will need to answer with the outputs of this script. You should use the code you are given as reference when writing your own scripts."
   ]
  },
  {
   "cell_type": "markdown",
   "metadata": {
    "deletable": false,
    "editable": false
   },
   "source": [
    "## Step 1: Loading the Data Set\n",
    "You are a risk analyst working for a credit card company. You have access to a set of historical data that can be used to study the relationships between customer characteristics and whether or not they are likely to default on their credit. It is important for the company to calculate the risk that their customers will default on their credit. The table below shows some of the characteristics that will be used in the analysis below.\n",
    "\n",
    "This block of R code will load the **credit_card_default.csv** data set. Here are the variables that will be retained:\n",
    "\n",
    "| <div style=\"text-align: left\"> Variable </div>  |   <div style=\"text-align: left\"> What does it represent? </div> |\n",
    "| -- | --  |\n",
    "| <div style=\"text-align: left\"> age </div> | <div style=\"text-align: left\"> Age of the individual </div> |\n",
    "| <div style=\"text-align: left\"> sex </div> | <div style=\"text-align: left\"> Sex of the individual (1=male, 2=female) </div> |\n",
    "| <div style=\"text-align: left\"> education </div> | <div style=\"text-align: left\"> Highest education level attained (1=high school, 2=college, 3=post graduate)</div> |\n",
    "| <div style=\"text-align: left\"> marriage </div> | <div style=\"text-align: left\"> Is the individual married or unmarried? (1=unmarried, 2=married)</div> |\n",
    "| <div style=\"text-align: left\"> assets </div> | <div style=\"text-align: left\"> Assets owned by the individual (0=none, 1=car only, 2=house only, 3=car and house) </div> |\n",
    "| <div style=\"text-align: left\"> missed_payment </div> | <div style=\"text-align: left\"> Did the individual miss payments in the last 3 months? (0=none, 1=missed) </div> |\n",
    "| <div style=\"text-align: left\"> credit_utilize </div> | <div style=\"text-align: left\"> Credit utilization by the individual, meaning how much of the credit allowed is being used </div> |\n",
    "| <div style=\"text-align: left\"> default </div> | <div style=\"text-align: left\"> Did the individual default on their credit? (0 = did not default, 1 = default) </div> |\n",
    "Note: Credit utilization is expressed as a decimal representing the percentage of your total credit limit you have utilized. For example, if you have used 50% of your credit limit, the value of credit_utilize would be 0.50.\n",
    "<br><br>\n",
    "Reference: \n",
    "Yeh, I. C., & Lien, C. H. (2009). The comparisons of data mining techniques for the predictive accuracy of probability of default of credit card clients. <i>Expert Systems with Applications</i>, 36(2), 2473-2480. Retrieved from https://archive.ics.uci.edu/ml/datasets/default+of+credit+card+clients.\n",
    "\n",
    "Click the code section below and hit the **Run** button above.\n",
    "<br><br>\n",
    "<font color='red'>**Note:** The code section below will first install two R packages: \"ResourceSelection\" and \"pROC\". Please do not move to the next step until the packages are fully installed. This will take some time. Once the installation is complete, this step will print first 6 rows of the data set.</font>"
   ]
  },
  {
   "cell_type": "code",
   "execution_count": 2,
   "metadata": {
    "deletable": false,
    "editable": false,
    "scrolled": true
   },
   "outputs": [
    {
     "name": "stdout",
     "output_type": "stream",
     "text": [
      "[1] \"The code section below will first install two R packages: ResourceSelection and pROC.\"\n",
      "[1] \"Please do not move to the next step until the packages are fully installed.\"\n",
      "[1] \"This will take some time.\"\n",
      "[1] \"Once the installation is complete, this step will print first 6 rows of the data set.\"\n"
     ]
    },
    {
     "name": "stderr",
     "output_type": "stream",
     "text": [
      "Installing package into '/home/codio/R/x86_64-pc-linux-gnu-library/3.4'\n",
      "(as 'lib' is unspecified)\n",
      "Installing package into '/home/codio/R/x86_64-pc-linux-gnu-library/3.4'\n",
      "(as 'lib' is unspecified)\n"
     ]
    },
    {
     "name": "stdout",
     "output_type": "stream",
     "text": [
      "[1] \"installation completed!\"\n",
      "[1] \"data set (first 6 observations)\"\n"
     ]
    },
    {
     "data": {
      "text/html": [
       "<table>\n",
       "<caption>A data.frame: 6 × 8</caption>\n",
       "<thead>\n",
       "\t<tr><th scope=col>age</th><th scope=col>sex</th><th scope=col>education</th><th scope=col>marriage</th><th scope=col>assets</th><th scope=col>missed_payment</th><th scope=col>credit_utilize</th><th scope=col>default</th></tr>\n",
       "\t<tr><th scope=col>&lt;int&gt;</th><th scope=col>&lt;fct&gt;</th><th scope=col>&lt;fct&gt;</th><th scope=col>&lt;fct&gt;</th><th scope=col>&lt;fct&gt;</th><th scope=col>&lt;fct&gt;</th><th scope=col>&lt;dbl&gt;</th><th scope=col>&lt;fct&gt;</th></tr>\n",
       "</thead>\n",
       "<tbody>\n",
       "\t<tr><td>28</td><td>2</td><td>2</td><td>2</td><td>0</td><td>1</td><td>0.174</td><td>0</td></tr>\n",
       "\t<tr><td>25</td><td>1</td><td>1</td><td>1</td><td>1</td><td>1</td><td>1.000</td><td>1</td></tr>\n",
       "\t<tr><td>49</td><td>2</td><td>1</td><td>1</td><td>0</td><td>1</td><td>0.540</td><td>1</td></tr>\n",
       "\t<tr><td>26</td><td>2</td><td>2</td><td>2</td><td>3</td><td>0</td><td>0.347</td><td>0</td></tr>\n",
       "\t<tr><td>38</td><td>1</td><td>1</td><td>2</td><td>2</td><td>1</td><td>0.312</td><td>0</td></tr>\n",
       "\t<tr><td>33</td><td>2</td><td>1</td><td>1</td><td>0</td><td>1</td><td>1.000</td><td>1</td></tr>\n",
       "</tbody>\n",
       "</table>\n"
      ],
      "text/latex": [
       "A data.frame: 6 × 8\n",
       "\\begin{tabular}{r|llllllll}\n",
       " age & sex & education & marriage & assets & missed\\_payment & credit\\_utilize & default\\\\\n",
       " <int> & <fct> & <fct> & <fct> & <fct> & <fct> & <dbl> & <fct>\\\\\n",
       "\\hline\n",
       "\t 28 & 2 & 2 & 2 & 0 & 1 & 0.174 & 0\\\\\n",
       "\t 25 & 1 & 1 & 1 & 1 & 1 & 1.000 & 1\\\\\n",
       "\t 49 & 2 & 1 & 1 & 0 & 1 & 0.540 & 1\\\\\n",
       "\t 26 & 2 & 2 & 2 & 3 & 0 & 0.347 & 0\\\\\n",
       "\t 38 & 1 & 1 & 2 & 2 & 1 & 0.312 & 0\\\\\n",
       "\t 33 & 2 & 1 & 1 & 0 & 1 & 1.000 & 1\\\\\n",
       "\\end{tabular}\n"
      ],
      "text/markdown": [
       "\n",
       "A data.frame: 6 × 8\n",
       "\n",
       "| age &lt;int&gt; | sex &lt;fct&gt; | education &lt;fct&gt; | marriage &lt;fct&gt; | assets &lt;fct&gt; | missed_payment &lt;fct&gt; | credit_utilize &lt;dbl&gt; | default &lt;fct&gt; |\n",
       "|---|---|---|---|---|---|---|---|\n",
       "| 28 | 2 | 2 | 2 | 0 | 1 | 0.174 | 0 |\n",
       "| 25 | 1 | 1 | 1 | 1 | 1 | 1.000 | 1 |\n",
       "| 49 | 2 | 1 | 1 | 0 | 1 | 0.540 | 1 |\n",
       "| 26 | 2 | 2 | 2 | 3 | 0 | 0.347 | 0 |\n",
       "| 38 | 1 | 1 | 2 | 2 | 1 | 0.312 | 0 |\n",
       "| 33 | 2 | 1 | 1 | 0 | 1 | 1.000 | 1 |\n",
       "\n"
      ],
      "text/plain": [
       "  age sex education marriage assets missed_payment credit_utilize default\n",
       "1 28  2   2         2        0      1              0.174          0      \n",
       "2 25  1   1         1        1      1              1.000          1      \n",
       "3 49  2   1         1        0      1              0.540          1      \n",
       "4 26  2   2         2        3      0              0.347          0      \n",
       "5 38  1   1         2        2      1              0.312          0      \n",
       "6 33  2   1         1        0      1              1.000          1      "
      ]
     },
     "metadata": {},
     "output_type": "display_data"
    }
   ],
   "source": [
    "print(\"The code section below will first install two R packages: ResourceSelection and pROC.\") \n",
    "print(\"Please do not move to the next step until the packages are fully installed.\") \n",
    "print(\"This will take some time.\") \n",
    "print(\"Once the installation is complete, this step will print first 6 rows of the data set.\")\n",
    "\n",
    "\n",
    "# Loading R packages that are needed for some calculations below\n",
    "install.packages(\"ResourceSelection\")\n",
    "install.packages(\"pROC\")\n",
    "\n",
    "# Loading credit card default data set\n",
    "credit_default <- read.csv(file='credit_card_default.csv', header=TRUE, sep=\",\")\n",
    "\n",
    "# Converting appropriate variables to factors  \n",
    "credit_default <- within(credit_default, {\n",
    "   default <- factor(default)\n",
    "   sex <- factor(sex)\n",
    "   education <- factor(education)\n",
    "   marriage <- factor(marriage)\n",
    "   assets <- factor(assets)\n",
    "   missed_payment <- factor(missed_payment)\n",
    "})\n",
    "\n",
    "print(\"installation completed!\")\n",
    "print(\"data set (first 6 observations)\")\n",
    "head(credit_default, 6)"
   ]
  },
  {
   "cell_type": "markdown",
   "metadata": {},
   "source": [
    " "
   ]
  },
  {
   "cell_type": "markdown",
   "metadata": {
    "deletable": false,
    "editable": false
   },
   "source": [
    "## Step 2: Creating Logistic Regression Model\n",
    "In this step, you will create a logistic regression model for defaulting on credit as the response variable and education and credit utilization as predictor variables. Education is a qualitative variable and credit utilization is a quantitative variable. A higher level of education is expected to be correlated with higher salary and therefore a lower risk of defaulting. A larger credit utilization is a red flag for financial institutions. Therefore, it is expected that the chance of defaulting is higher if credit utilization is higher. \n",
    "\n",
    "Note that education has three levels in the data set; 1=high school, 2=college, 3=post graduate. This can be represented by two dummy variables. \n",
    "\n",
    "The general form of this regression model is:\n",
    "<br><br>\n",
    "\n",
    "\\begin{equation*}\n",
    "\\Large E(y) = \\frac{e^{({\\beta}_0\\ +\\ {\\beta}_1 {x}_1\\ +\\ {\\beta}_2 {x}_2\\ + \\ {\\beta}_3 {x}_3)}}{1+e^{({\\beta}_0\\ +\\ {\\beta}_1 {x}_1\\ + \\ {\\beta}_2 {x}_2\\ + \\ {\\beta}_3 {x}_3)}}\n",
    "\\end{equation*}\n",
    "<br><br>\n",
    "\n",
    "\n",
    "\\begin{equation*}\n",
    "\\text{where y is 1 for defaulting on credit and 0 for not defaulting on credit,}\\ {x}_1\\ \\text{is credit utilization,}\n",
    "\\end{equation*}\n",
    "<br>\n",
    "\n",
    "\\begin{equation*}\n",
    "\\text{and}\\ \\ {x}_2\\ \\text{and}\\ {x}_3\\ \\text{are dummy variables for education}\n",
    "\\end{equation*}\n",
    "<br><br>\n",
    "\n",
    "This can be transformed to form a model that is linear in the beta terms:\n",
    "<br><br>\n",
    "\n",
    "\\begin{equation*}\n",
    "\\large ln(\\frac{\\pi}{1 - \\pi }) = {\\beta}_0\\ +\\ {\\beta}_1 {x}_1\\ + \\ {\\beta}_2 {x}_2\\ + \\ {\\beta}_3 {x}_3\n",
    "\\end{equation*}\n",
    "<br><br>\n",
    "\n",
    "The left side of the equation above is the natural log of odds, so this can be written as:\n",
    "<br><br>\n",
    "\n",
    "\\begin{equation*}\n",
    "\\large ln(\\ odds\\ ) = {\\beta}_0\\ +\\ {\\beta}_1 {x}_1\\ + \\ {\\beta}_2 {x}_2\\ + \\ {\\beta}_3 {x}_3\n",
    "\\end{equation*}\n",
    "<br><br>\n",
    "\n",
    "\n",
    "The prediction regression equation is:\n",
    "<br>\n",
    "\n",
    "\\begin{equation*}\n",
    "\\large ln(\\ odds\\ ) = \\hat{{\\beta}_0}\\ +\\ \\hat{{\\beta}_1} {x}_1\\ +\\ \\hat{{\\beta}_2} {x}_2\\ +\\ \\hat{{\\beta}_3} {x}_3\n",
    "\\end{equation*}\n",
    "<br><br>\n",
    "\n",
    "\n",
    "\\begin{equation*}\n",
    "\\text{where odds is the odds of defaulting (default=1)}\n",
    "\\end{equation*}\n",
    "\n",
    "\\begin{equation*}\n",
    "\\hat{{\\beta}_0} \\text{,} \\hspace{0.25cm} \\hat{{\\beta}_1} \\text{, } \\hspace{0.25cm} \\hat{{\\beta}_2} \\text{, } \\hspace{0.25cm} \\hat{{\\beta}_3} \\text{  } \\text{ are estimates of }\n",
    "\\text{  } {\\beta}_0\\ \\text{,} \\hspace{0.25cm} {\\beta}_1\\ \\text{,} \\hspace{0.25cm} {\\beta}_2\\ \\text{,} \\hspace{0.25cm} {\\beta}_3\\ \\text{ respectively  }\n",
    "\\end{equation*}\n",
    "<br><br>\n",
    "\n",
    "The code below will create the logistic regression model and print statistics for the Wald's test. Recall that the Wald's test is for the individual slope (beta) parameters. Click the block of code below and hit the **Run** button above.  "
   ]
  },
  {
   "cell_type": "code",
   "execution_count": 3,
   "metadata": {
    "deletable": false,
    "editable": false,
    "scrolled": true
   },
   "outputs": [
    {
     "data": {
      "text/plain": [
       "\n",
       "Call:\n",
       "glm(formula = default ~ credit_utilize + education, family = \"binomial\", \n",
       "    data = credit_default)\n",
       "\n",
       "Deviance Residuals: \n",
       "     Min        1Q    Median        3Q       Max  \n",
       "-2.48812  -0.12355   0.00000   0.04386   2.24777  \n",
       "\n",
       "Coefficients:\n",
       "               Estimate Std. Error z value Pr(>|z|)    \n",
       "(Intercept)     -8.8488     1.1849  -7.468 8.13e-14 ***\n",
       "credit_utilize  34.3869     4.0326   8.527  < 2e-16 ***\n",
       "education2      -1.4975     0.4668  -3.208  0.00134 ** \n",
       "education3      -4.2540     0.5963  -7.134 9.72e-13 ***\n",
       "---\n",
       "Signif. codes:  0 '***' 0.001 '**' 0.01 '*' 0.05 '.' 0.1 ' ' 1\n",
       "\n",
       "(Dispersion parameter for binomial family taken to be 1)\n",
       "\n",
       "    Null deviance: 827.93  on 599  degrees of freedom\n",
       "Residual deviance: 179.33  on 596  degrees of freedom\n",
       "AIC: 187.33\n",
       "\n",
       "Number of Fisher Scoring iterations: 9\n"
      ]
     },
     "metadata": {},
     "output_type": "display_data"
    }
   ],
   "source": [
    "# Create the complete model\n",
    "logit <- glm(default ~ credit_utilize + education , data = credit_default, family = \"binomial\")\n",
    "\n",
    "summary(logit)"
   ]
  },
  {
   "cell_type": "markdown",
   "metadata": {
    "deletable": false,
    "editable": false
   },
   "source": [
    " ### Interpretation of Beta Estimates\n",
    "\n",
    "Based on the output in previous step, the regression model is:\n",
    "<br><br>\n",
    "\n",
    "\\begin{equation*}\n",
    "\\large \\hat{y} = \\frac{e^{(-8.8488\\ +\\ 34.3869 {x}_1\\ -\\ 1.4975 {x}_2\\ -\\ 4.2540 {x}_3)}}{1+e^{(-8.8488\\ +\\ 34.3869 {x}_1\\ -\\ 1.4975 {x}_2\\ -\\ 4.2540 {x}_3)}}\n",
    "\\end{equation*}\n",
    "<br><br>\n",
    "\n",
    "The linear form of this can be written as:\n",
    "<br><br>\n",
    "\\begin{equation*}\n",
    "\\large ln(\\ odds\\ ) = -8.8488\\ +\\ 34.3869 {x}_1\\ -\\ 1.4975 {x}_2\\ -\\ 4.2540 {x}_3\n",
    "\\end{equation*}\n",
    "<br><br>\n",
    "\n",
    "**Interpret the estimated coefficient of credit utilization. **\n",
    "\n",
    "* The estimated coefficient for variable credit utilization is 34.3869. This means that on average, the change in log odds for defaulting is 0.343869 for each percentage increase in credit utilization, holding all other variables constant. Note that the figure 0.343869 is obtained by dividing 34.3869 by 100 because credit utilization is expressed as a percentage.\n",
    "<br><br>\n",
    "\n",
    "* An alternative way to express this is in terms of odds (and not log odds). If we calculate:\n",
    " <br><br>\n",
    " \n",
    " \\begin{equation*}\n",
    " \\large e^{(0.343869)}-1 = 0.4104\n",
    " \\end{equation*}\n",
    " <br><br>\n",
    " \n",
    " The odds of defaulting increase by 41.04% for each percentage increase in credit utilization, holding all other variables constant. Again, the figure 0.343869 is obtained by dividing 34.3869 by 100 because credit utilization is expressed as a percentage. The figure 41.04% is obtained by multiplying the decimal value (0.4104) by 100, to turn the decimal into a percentage.\n",
    "<br><br>\n",
    "\n",
    "* Note that the sign for 0.4104 is positive. If this were -0.4104, then the odds of defaulting would *decrease* by 41.04% for each percentage increase in credit utilization, holding all other variables constant."
   ]
  },
  {
   "cell_type": "markdown",
   "metadata": {},
   "source": [
    " "
   ]
  },
  {
   "cell_type": "markdown",
   "metadata": {
    "deletable": false,
    "editable": false
   },
   "source": [
    "## Step 3: Wald Confidence Intervals for Slope Parameters\n",
    "This step will print the Wald-based 95% confidence intervals for the slope parameters. "
   ]
  },
  {
   "cell_type": "code",
   "execution_count": 4,
   "metadata": {
    "deletable": false,
    "editable": false
   },
   "outputs": [
    {
     "data": {
      "text/html": [
       "<table>\n",
       "<caption>A matrix: 4 × 2 of type dbl</caption>\n",
       "<thead>\n",
       "\t<tr><th></th><th scope=col>2.5 %</th><th scope=col>97.5 %</th></tr>\n",
       "</thead>\n",
       "<tbody>\n",
       "\t<tr><th scope=row>(Intercept)</th><td>-11.1711</td><td>-6.5265</td></tr>\n",
       "\t<tr><th scope=row>credit_utilize</th><td> 26.4832</td><td>42.2906</td></tr>\n",
       "\t<tr><th scope=row>education2</th><td> -2.4125</td><td>-0.5826</td></tr>\n",
       "\t<tr><th scope=row>education3</th><td> -5.4227</td><td>-3.0854</td></tr>\n",
       "</tbody>\n",
       "</table>\n"
      ],
      "text/latex": [
       "A matrix: 4 × 2 of type dbl\n",
       "\\begin{tabular}{r|ll}\n",
       "  & 2.5 \\% & 97.5 \\%\\\\\n",
       "\\hline\n",
       "\t(Intercept) & -11.1711 & -6.5265\\\\\n",
       "\tcredit\\_utilize &  26.4832 & 42.2906\\\\\n",
       "\teducation2 &  -2.4125 & -0.5826\\\\\n",
       "\teducation3 &  -5.4227 & -3.0854\\\\\n",
       "\\end{tabular}\n"
      ],
      "text/markdown": [
       "\n",
       "A matrix: 4 × 2 of type dbl\n",
       "\n",
       "| <!--/--> | 2.5 % | 97.5 % |\n",
       "|---|---|---|\n",
       "| (Intercept) | -11.1711 | -6.5265 |\n",
       "| credit_utilize |  26.4832 | 42.2906 |\n",
       "| education2 |  -2.4125 | -0.5826 |\n",
       "| education3 |  -5.4227 | -3.0854 |\n",
       "\n"
      ],
      "text/plain": [
       "               2.5 %    97.5 % \n",
       "(Intercept)    -11.1711 -6.5265\n",
       "credit_utilize  26.4832 42.2906\n",
       "education2      -2.4125 -0.5826\n",
       "education3      -5.4227 -3.0854"
      ]
     },
     "metadata": {},
     "output_type": "display_data"
    }
   ],
   "source": [
    "conf_int <- confint.default(logit, level=0.95)\n",
    "round(conf_int,4)"
   ]
  },
  {
   "cell_type": "markdown",
   "metadata": {
    "deletable": false,
    "editable": false
   },
   "source": [
    "## Step 4: Hosmer-Lemeshow Goodness of Fit (GOF) Test\n",
    "This block of R code will run the Hosmer-Lemeshow goodness of fit test to assess whether the model is appropriate for the data set. It evaluates if the predictions for credit default are close to the observed values. The output of the test is the chi-square test statistic and the associated P-value. Recall that the null hypothesis is that the model fits the data and the alternative hypothesis is that the model does not fit the data.\n",
    "\n",
    "Click the code section below and hit the **Run** button above."
   ]
  },
  {
   "cell_type": "code",
   "execution_count": 5,
   "metadata": {
    "deletable": false,
    "editable": false,
    "scrolled": true
   },
   "outputs": [
    {
     "name": "stderr",
     "output_type": "stream",
     "text": [
      "ResourceSelection 0.3-6 \t 2023-06-27\n"
     ]
    },
    {
     "name": "stdout",
     "output_type": "stream",
     "text": [
      "[1] \"Hosmer-Lemeshow Goodness of Fit Test\"\n"
     ]
    },
    {
     "name": "stderr",
     "output_type": "stream",
     "text": [
      "Warning message in hoslem.test(logit$y, fitted(logit), g = 50):\n",
      "\"The data did not allow for the requested number of bins.\""
     ]
    },
    {
     "data": {
      "text/plain": [
       "\n",
       "\tHosmer and Lemeshow goodness of fit (GOF) test\n",
       "\n",
       "data:  logit$y, fitted(logit)\n",
       "X-squared = 31.582, df = 47, p-value = 0.9588\n"
      ]
     },
     "metadata": {},
     "output_type": "display_data"
    }
   ],
   "source": [
    "library(ResourceSelection)\n",
    "\n",
    "\n",
    "print(\"Hosmer-Lemeshow Goodness of Fit Test\")\n",
    "hl = hoslem.test(logit$y, fitted(logit), g=50)\n",
    "hl"
   ]
  },
  {
   "cell_type": "markdown",
   "metadata": {},
   "source": [
    " "
   ]
  },
  {
   "cell_type": "markdown",
   "metadata": {
    "deletable": false,
    "editable": false
   },
   "source": [
    "## Step 5: Confusion Matrix\n",
    "This block of R code will obtain the confusion matrix using the model that is created and calculate the accuracy, precision, and recall. The confusion matrix, also known as an error matrix, allows us to evaluate the performance of the logistic regression model. The rows of the table represent the predicted outcomes, while the columns represent the actual outcomes. The table output is of the form:\n",
    "\n",
    "\n",
    "|              | **Prediction = 0**        | **Prediction = 1**        |\n",
    "|--------------|-----------------|-----------------|\n",
    "| **Actual = 0** | True Negatives  | False Positives |\n",
    "| **Actual = 1** | False Negatives | True Positives  |\n",
    "\n",
    "- True Positive (TP): The actual value is 1 (default=1) and the predicted value is 1 (default=1), hence a true positive. \n",
    "- True Negative (TN): The actual value is 0 (default=0) and the predicted value is 0 (default=0), hence a true negative. \n",
    "- False Positive (FP): The actual value is 0 (default=0) and the predicted value is 1 (default=1), hence a false positive. This is also the Type 1 Error.\n",
    "- False Negative (FN): The actual value is 1 (default=1) and the predicted value is 0 (default=0), hence a false negative. This is also the Type 2 Error.\n",
    "\n",
    "<br><br>\n",
    "\n",
    "**Accuracy** is the ratio of the number of correct predictions to the total number of observations.\n",
    "<br><br>\n",
    "\\begin{equation*}\n",
    "Accuracy = \\frac{TP\\ +\\ TN}{TP\\ +\\ TN\\ +\\ FP\\ + FN} \n",
    "\\end{equation*}\n",
    "\n",
    "<br><br>\n",
    "\n",
    "**Precision** is the ratio of correct positive predictions to the total predicted positives.\n",
    "<br><br>\n",
    "\\begin{equation*}\n",
    "Precision = \\frac{TP}{TP\\ +\\ FP} \n",
    "\\end{equation*}\n",
    "\n",
    "<br><br>\n",
    "\n",
    "**Recall** is the ratio of correct positive predictions to the total positives examples.\n",
    "\n",
    "\\begin{equation*}\n",
    "Recall = \\frac{TP}{TP\\ +\\ FN} \n",
    "\\end{equation*}\n",
    "\n",
    "<br><br>\n",
    "\n",
    "Click the code section below and hit the **Run** button above."
   ]
  },
  {
   "cell_type": "code",
   "execution_count": 6,
   "metadata": {
    "deletable": false,
    "editable": false
   },
   "outputs": [
    {
     "name": "stdout",
     "output_type": "stream",
     "text": [
      "[1] \"Confusion Matrix\"\n"
     ]
    },
    {
     "data": {
      "text/html": [
       "<table>\n",
       "<caption>A matrix: 2 × 2 of type chr</caption>\n",
       "<thead>\n",
       "\t<tr><th></th><th scope=col>Prediction: default=0</th><th scope=col>Prediction: default=1</th></tr>\n",
       "</thead>\n",
       "<tbody>\n",
       "\t<tr><th scope=row>Actual: default=0</th><td>254</td><td> 22</td></tr>\n",
       "\t<tr><th scope=row>Actual: default=1</th><td> 21</td><td>303</td></tr>\n",
       "</tbody>\n",
       "</table>\n"
      ],
      "text/latex": [
       "A matrix: 2 × 2 of type chr\n",
       "\\begin{tabular}{r|ll}\n",
       "  & Prediction: default=0 & Prediction: default=1\\\\\n",
       "\\hline\n",
       "\tActual: default=0 & 254 &  22\\\\\n",
       "\tActual: default=1 &  21 & 303\\\\\n",
       "\\end{tabular}\n"
      ],
      "text/markdown": [
       "\n",
       "A matrix: 2 × 2 of type chr\n",
       "\n",
       "| <!--/--> | Prediction: default=0 | Prediction: default=1 |\n",
       "|---|---|---|\n",
       "| Actual: default=0 | 254 |  22 |\n",
       "| Actual: default=1 |  21 | 303 |\n",
       "\n"
      ],
      "text/plain": [
       "                   depvar_pred\n",
       "                    Prediction: default=0 Prediction: default=1\n",
       "  Actual: default=0 254                    22                  \n",
       "  Actual: default=1  21                   303                  "
      ]
     },
     "metadata": {},
     "output_type": "display_data"
    }
   ],
   "source": [
    "# Predict default or no_default for the data set using the model\n",
    "default_model_data <- credit_default[c('education', 'credit_utilize')]\n",
    "pred <- predict(logit, newdata=default_model_data, type='response')\n",
    "\n",
    "# If the predicted probability of default is >=0.50 then predict credit default (default='1'), otherwise predict no credit \n",
    "# default (default='0') \n",
    "depvar_pred = as.factor(ifelse(pred >= 0.5, '1', '0'))\n",
    "\n",
    "# This creates the confusion matrix\n",
    "conf.matrix <- table(credit_default$default, depvar_pred)[c('0','1'),c('0','1')]\n",
    "rownames(conf.matrix) <- paste(\"Actual\", rownames(conf.matrix), sep = \": default=\")\n",
    "colnames(conf.matrix) <- paste(\"Prediction\", colnames(conf.matrix), sep = \": default=\")\n",
    "\n",
    "# Print nicely formatted confusion matrix\n",
    "print(\"Confusion Matrix\")\n",
    "format(conf.matrix,justify=\"centre\",digit=2)"
   ]
  },
  {
   "cell_type": "markdown",
   "metadata": {},
   "source": [
    " "
   ]
  },
  {
   "cell_type": "markdown",
   "metadata": {
    "deletable": false,
    "editable": false
   },
   "source": [
    " ## Step 6: Receiver Operating Characteristic (ROC) Curve\n",
    "This code will plot the ROC curve. The ROC curve measures the performance for a classifier (such as a logistic regression model) at various threshold settings. The area under the curve is an indicator of how well the model distinguishes between y=0 (no default on credit) and y=1 (default on credit). In general, a larger area under the curve is desired as it represents a model that is better at predicting the classes (0 or 1). For this data set, this means that a larger area under the curve represents a model that is better at predicting defaulting or not defaulting on credit. \n",
    "\n",
    "Click the code section below and hit the **Run** button above.\n",
    "\n",
    "NOTE: If the plot is not created, click the code section and hit the **Run** button again."
   ]
  },
  {
   "cell_type": "code",
   "execution_count": 7,
   "metadata": {
    "deletable": false,
    "editable": false
   },
   "outputs": [
    {
     "name": "stderr",
     "output_type": "stream",
     "text": [
      "Type 'citation(\"pROC\")' for a citation.\n",
      "\n",
      "Attaching package: 'pROC'\n",
      "\n",
      "The following objects are masked from 'package:stats':\n",
      "\n",
      "    cov, smooth, var\n",
      "\n",
      "Setting levels: control = 0, case = 1\n",
      "Setting direction: controls < cases\n"
     ]
    },
    {
     "name": "stdout",
     "output_type": "stream",
     "text": [
      "[1] \"Area Under the Curve (AUC)\"\n"
     ]
    },
    {
     "data": {
      "text/html": [
       "0.9859"
      ],
      "text/latex": [
       "0.9859"
      ],
      "text/markdown": [
       "0.9859"
      ],
      "text/plain": [
       "[1] 0.9859"
      ]
     },
     "metadata": {},
     "output_type": "display_data"
    },
    {
     "name": "stdout",
     "output_type": "stream",
     "text": [
      "[1] \"ROC Curve\"\n"
     ]
    },
    {
     "data": {
      "image/png": "[encoded data removed]",
      "text/plain": [
       "plot without title"
      ]
     },
     "metadata": {},
     "output_type": "display_data"
    }
   ],
   "source": [
    "library(pROC)\n",
    "\n",
    "labels <- credit_default$default\n",
    "predictions <- logit$fitted.values\n",
    "\n",
    "roc <- roc(labels ~ predictions)\n",
    "\n",
    "print(\"Area Under the Curve (AUC)\")\n",
    "round(auc(roc),4)\n",
    "\n",
    "print(\"ROC Curve\")\n",
    "# True Positive Rate (Sensitivity) and False Positive Rate (1 - Specificity)\n",
    "plot(roc, legacy.axes = TRUE)"
   ]
  },
  {
   "cell_type": "markdown",
   "metadata": {},
   "source": [
    " "
   ]
  },
  {
   "cell_type": "markdown",
   "metadata": {
    "deletable": false,
    "editable": false
   },
   "source": [
    "## Step 7: Prediction\n",
    "Recall that a logistic regression model predicts the probability of y=1. In this example, it predicts the probability of defaulting on credit (default=1). The code section below predicts the probability of defaulting for an individual who is a high school graduate and has 40% credit utilization and another individual who is a postgraduate and has 35% credit utilization.  \n",
    "\n",
    "Click the block of code below and hit the **Run** button above.  "
   ]
  },
  {
   "cell_type": "code",
   "execution_count": 8,
   "metadata": {
    "deletable": false,
    "editable": false,
    "scrolled": true
   },
   "outputs": [
    {
     "name": "stdout",
     "output_type": "stream",
     "text": [
      "[1] \"Prediction: education is high school (education='1'), credit utilization is 40% (credit_utilize=0.40)\"\n"
     ]
    },
    {
     "data": {
      "text/html": [
       "<strong>1:</strong> 0.9927"
      ],
      "text/latex": [
       "\\textbf{1:} 0.9927"
      ],
      "text/markdown": [
       "**1:** 0.9927"
      ],
      "text/plain": [
       "     1 \n",
       "0.9927 "
      ]
     },
     "metadata": {},
     "output_type": "display_data"
    },
    {
     "name": "stdout",
     "output_type": "stream",
     "text": [
      "[1] \"Prediction: education is postgraduate (education='3'), credit utilization is 35% (credit_utilize=0.35)\"\n"
     ]
    },
    {
     "data": {
      "text/html": [
       "<strong>1:</strong> 0.2559"
      ],
      "text/latex": [
       "\\textbf{1:} 0.2559"
      ],
      "text/markdown": [
       "**1:** 0.2559"
      ],
      "text/plain": [
       "     1 \n",
       "0.2559 "
      ]
     },
     "metadata": {},
     "output_type": "display_data"
    }
   ],
   "source": [
    "print(\"Prediction: education is high school (education='1'), credit utilization is 40% (credit_utilize=0.40)\")\n",
    "newdata1 <- data.frame(education=\"1\", credit_utilize=0.40)\n",
    "pred1 <- predict(logit, newdata1, type='response')\n",
    "round(pred1, 4)\n",
    "\n",
    "print(\"Prediction: education is postgraduate (education='3'), credit utilization is 35% (credit_utilize=0.35)\")\n",
    "newdata2 <- data.frame(education=\"3\", credit_utilize=0.35)\n",
    "pred2 <- predict(logit, newdata2, type='response')\n",
    "round(pred2, 4)"
   ]
  },
  {
   "cell_type": "markdown",
   "metadata": {
    "deletable": false,
    "editable": false
   },
   "source": [
    "## Your Code\n",
    "\n",
    "You have been asked to create logistic regression models in the Module Five Problem Set. Review the Problem Set Report template to see the questions you will be answering about your models.\n",
    "\n",
    "Use the empty blocks below to write the R code for your model and get outputs. Then use the outputs to answer the questions in your problem set report.\n",
    "\n",
    "**Note: Use the + (plus) button to add new code blocks or the scissor icon to remove empty code blocks, if needed.**"
   ]
  },
  {
   "cell_type": "code",
   "execution_count": 9,
   "metadata": {},
   "outputs": [],
   "source": [
    "# Logistic regression model for defaulting on credit as response variable\n",
    "#and credit utilization, assets, and missed payment(s) as predictors."
   ]
  },
  {
   "cell_type": "code",
   "execution_count": 10,
   "metadata": {},
   "outputs": [
    {
     "data": {
      "text/html": [
       "<table>\n",
       "<caption>A data.frame: 6 × 8</caption>\n",
       "<thead>\n",
       "\t<tr><th scope=col>age</th><th scope=col>sex</th><th scope=col>education</th><th scope=col>marriage</th><th scope=col>assets</th><th scope=col>missed_payment</th><th scope=col>credit_utilize</th><th scope=col>default</th></tr>\n",
       "\t<tr><th scope=col>&lt;int&gt;</th><th scope=col>&lt;fct&gt;</th><th scope=col>&lt;fct&gt;</th><th scope=col>&lt;fct&gt;</th><th scope=col>&lt;fct&gt;</th><th scope=col>&lt;fct&gt;</th><th scope=col>&lt;dbl&gt;</th><th scope=col>&lt;fct&gt;</th></tr>\n",
       "</thead>\n",
       "<tbody>\n",
       "\t<tr><td>28</td><td>2</td><td>2</td><td>2</td><td>0</td><td>1</td><td>0.174</td><td>0</td></tr>\n",
       "\t<tr><td>25</td><td>1</td><td>1</td><td>1</td><td>1</td><td>1</td><td>1.000</td><td>1</td></tr>\n",
       "\t<tr><td>49</td><td>2</td><td>1</td><td>1</td><td>0</td><td>1</td><td>0.540</td><td>1</td></tr>\n",
       "\t<tr><td>26</td><td>2</td><td>2</td><td>2</td><td>3</td><td>0</td><td>0.347</td><td>0</td></tr>\n",
       "\t<tr><td>38</td><td>1</td><td>1</td><td>2</td><td>2</td><td>1</td><td>0.312</td><td>0</td></tr>\n",
       "\t<tr><td>33</td><td>2</td><td>1</td><td>1</td><td>0</td><td>1</td><td>1.000</td><td>1</td></tr>\n",
       "</tbody>\n",
       "</table>\n"
      ],
      "text/latex": [
       "A data.frame: 6 × 8\n",
       "\\begin{tabular}{r|llllllll}\n",
       " age & sex & education & marriage & assets & missed\\_payment & credit\\_utilize & default\\\\\n",
       " <int> & <fct> & <fct> & <fct> & <fct> & <fct> & <dbl> & <fct>\\\\\n",
       "\\hline\n",
       "\t 28 & 2 & 2 & 2 & 0 & 1 & 0.174 & 0\\\\\n",
       "\t 25 & 1 & 1 & 1 & 1 & 1 & 1.000 & 1\\\\\n",
       "\t 49 & 2 & 1 & 1 & 0 & 1 & 0.540 & 1\\\\\n",
       "\t 26 & 2 & 2 & 2 & 3 & 0 & 0.347 & 0\\\\\n",
       "\t 38 & 1 & 1 & 2 & 2 & 1 & 0.312 & 0\\\\\n",
       "\t 33 & 2 & 1 & 1 & 0 & 1 & 1.000 & 1\\\\\n",
       "\\end{tabular}\n"
      ],
      "text/markdown": [
       "\n",
       "A data.frame: 6 × 8\n",
       "\n",
       "| age &lt;int&gt; | sex &lt;fct&gt; | education &lt;fct&gt; | marriage &lt;fct&gt; | assets &lt;fct&gt; | missed_payment &lt;fct&gt; | credit_utilize &lt;dbl&gt; | default &lt;fct&gt; |\n",
       "|---|---|---|---|---|---|---|---|\n",
       "| 28 | 2 | 2 | 2 | 0 | 1 | 0.174 | 0 |\n",
       "| 25 | 1 | 1 | 1 | 1 | 1 | 1.000 | 1 |\n",
       "| 49 | 2 | 1 | 1 | 0 | 1 | 0.540 | 1 |\n",
       "| 26 | 2 | 2 | 2 | 3 | 0 | 0.347 | 0 |\n",
       "| 38 | 1 | 1 | 2 | 2 | 1 | 0.312 | 0 |\n",
       "| 33 | 2 | 1 | 1 | 0 | 1 | 1.000 | 1 |\n",
       "\n"
      ],
      "text/plain": [
       "  age sex education marriage assets missed_payment credit_utilize default\n",
       "1 28  2   2         2        0      1              0.174          0      \n",
       "2 25  1   1         1        1      1              1.000          1      \n",
       "3 49  2   1         1        0      1              0.540          1      \n",
       "4 26  2   2         2        3      0              0.347          0      \n",
       "5 38  1   1         2        2      1              0.312          0      \n",
       "6 33  2   1         1        0      1              1.000          1      "
      ]
     },
     "metadata": {},
     "output_type": "display_data"
    },
    {
     "name": "stdout",
     "output_type": "stream",
     "text": [
      "Number of rows:  600\n",
      "Number of columns:  8"
     ]
    }
   ],
   "source": [
    "# Loading credit card default data set\n",
    "credit_default <- read.csv(file='credit_card_default.csv', header=TRUE, sep=\",\")\n",
    "\n",
    "# Converting appropriate variables to factors  \n",
    "credit_default <- within(credit_default, {\n",
    "   default <- factor(default)\n",
    "   sex <- factor(sex)\n",
    "   education <- factor(education)\n",
    "   marriage <- factor(marriage)\n",
    "   assets <- factor(assets)\n",
    "   missed_payment <- factor(missed_payment)\n",
    "})\n",
    "\n",
    "head(credit_default, 6)\n",
    "\n",
    "# Get number of rows and columns in dataset\n",
    "cat(\"Number of rows: \", nrow(credit_default))\n",
    "cat(\"\\nNumber of columns: \", ncol(credit_default))"
   ]
  },
  {
   "cell_type": "code",
   "execution_count": 11,
   "metadata": {},
   "outputs": [
    {
     "data": {
      "text/plain": [
       "\n",
       "Call:\n",
       "glm(formula = default ~ credit_utilize + assets + missed_payment, \n",
       "    family = \"binomial\", data = credit_default)\n",
       "\n",
       "Deviance Residuals: \n",
       "     Min        1Q    Median        3Q       Max  \n",
       "-2.50838  -0.10623   0.00001   0.05513   2.32888  \n",
       "\n",
       "Coefficients:\n",
       "                Estimate Std. Error z value Pr(>|z|)    \n",
       "(Intercept)      -9.2371     1.2320  -7.497 6.51e-14 ***\n",
       "credit_utilize   32.2826     3.9957   8.079 6.51e-16 ***\n",
       "assets1          -0.4827     0.4999  -0.966 0.334240    \n",
       "assets2          -3.0334     0.6038  -5.024 5.05e-07 ***\n",
       "assets3          -3.4568     0.5806  -5.954 2.61e-09 ***\n",
       "missed_payment1   1.4276     0.4131   3.455 0.000549 ***\n",
       "---\n",
       "Signif. codes:  0 '***' 0.001 '**' 0.01 '*' 0.05 '.' 0.1 ' ' 1\n",
       "\n",
       "(Dispersion parameter for binomial family taken to be 1)\n",
       "\n",
       "    Null deviance: 827.93  on 599  degrees of freedom\n",
       "Residual deviance: 171.23  on 594  degrees of freedom\n",
       "AIC: 183.23\n",
       "\n",
       "Number of Fisher Scoring iterations: 9\n"
      ]
     },
     "metadata": {},
     "output_type": "display_data"
    }
   ],
   "source": [
    "#Generate regression model\n",
    "logit <- glm(default ~ credit_utilize + assets + missed_payment, data = credit_default, family = \"binomial\")\n",
    "\n",
    "summary(logit)"
   ]
  },
  {
   "cell_type": "code",
   "execution_count": 12,
   "metadata": {},
   "outputs": [
    {
     "data": {
      "text/html": [
       "<table>\n",
       "<caption>A matrix: 6 × 2 of type dbl</caption>\n",
       "<thead>\n",
       "\t<tr><th></th><th scope=col>2.5 %</th><th scope=col>97.5 %</th></tr>\n",
       "</thead>\n",
       "<tbody>\n",
       "\t<tr><th scope=row>(Intercept)</th><td>-11.6518</td><td>-6.8224</td></tr>\n",
       "\t<tr><th scope=row>credit_utilize</th><td> 24.4513</td><td>40.1140</td></tr>\n",
       "\t<tr><th scope=row>assets1</th><td> -1.4624</td><td> 0.4971</td></tr>\n",
       "\t<tr><th scope=row>assets2</th><td> -4.2167</td><td>-1.8501</td></tr>\n",
       "\t<tr><th scope=row>assets3</th><td> -4.5947</td><td>-2.3189</td></tr>\n",
       "\t<tr><th scope=row>missed_payment1</th><td>  0.6178</td><td> 2.2373</td></tr>\n",
       "</tbody>\n",
       "</table>\n"
      ],
      "text/latex": [
       "A matrix: 6 × 2 of type dbl\n",
       "\\begin{tabular}{r|ll}\n",
       "  & 2.5 \\% & 97.5 \\%\\\\\n",
       "\\hline\n",
       "\t(Intercept) & -11.6518 & -6.8224\\\\\n",
       "\tcredit\\_utilize &  24.4513 & 40.1140\\\\\n",
       "\tassets1 &  -1.4624 &  0.4971\\\\\n",
       "\tassets2 &  -4.2167 & -1.8501\\\\\n",
       "\tassets3 &  -4.5947 & -2.3189\\\\\n",
       "\tmissed\\_payment1 &   0.6178 &  2.2373\\\\\n",
       "\\end{tabular}\n"
      ],
      "text/markdown": [
       "\n",
       "A matrix: 6 × 2 of type dbl\n",
       "\n",
       "| <!--/--> | 2.5 % | 97.5 % |\n",
       "|---|---|---|\n",
       "| (Intercept) | -11.6518 | -6.8224 |\n",
       "| credit_utilize |  24.4513 | 40.1140 |\n",
       "| assets1 |  -1.4624 |  0.4971 |\n",
       "| assets2 |  -4.2167 | -1.8501 |\n",
       "| assets3 |  -4.5947 | -2.3189 |\n",
       "| missed_payment1 |   0.6178 |  2.2373 |\n",
       "\n"
      ],
      "text/plain": [
       "                2.5 %    97.5 % \n",
       "(Intercept)     -11.6518 -6.8224\n",
       "credit_utilize   24.4513 40.1140\n",
       "assets1          -1.4624  0.4971\n",
       "assets2          -4.2167 -1.8501\n",
       "assets3          -4.5947 -2.3189\n",
       "missed_payment1   0.6178  2.2373"
      ]
     },
     "metadata": {},
     "output_type": "display_data"
    }
   ],
   "source": [
    "#Get confidence intervals\n",
    "conf_int <- confint.default(logit, level=0.95)\n",
    "round(conf_int,4)"
   ]
  },
  {
   "cell_type": "code",
   "execution_count": 13,
   "metadata": {},
   "outputs": [
    {
     "name": "stdout",
     "output_type": "stream",
     "text": [
      "[1] \"Hosmer-Lemeshow Goodness of Fit Test\"\n"
     ]
    },
    {
     "name": "stderr",
     "output_type": "stream",
     "text": [
      "Warning message in hoslem.test(logit$y, fitted(logit), g = 50):\n",
      "\"The data did not allow for the requested number of bins.\""
     ]
    },
    {
     "data": {
      "text/plain": [
       "\n",
       "\tHosmer and Lemeshow goodness of fit (GOF) test\n",
       "\n",
       "data:  logit$y, fitted(logit)\n",
       "X-squared = 26.733, df = 47, p-value = 0.9924\n"
      ]
     },
     "metadata": {},
     "output_type": "display_data"
    }
   ],
   "source": [
    "library(ResourceSelection)\n",
    "\n",
    "\n",
    "print(\"Hosmer-Lemeshow Goodness of Fit Test\")\n",
    "hl = hoslem.test(logit$y, fitted(logit), g=50)\n",
    "hl"
   ]
  },
  {
   "cell_type": "code",
   "execution_count": 14,
   "metadata": {},
   "outputs": [
    {
     "name": "stdout",
     "output_type": "stream",
     "text": [
      "[1] \"Confusion Matrix\"\n"
     ]
    },
    {
     "data": {
      "text/html": [
       "<table>\n",
       "<caption>A matrix: 2 × 2 of type chr</caption>\n",
       "<thead>\n",
       "\t<tr><th></th><th scope=col>Prediction: default=0</th><th scope=col>Prediction: default=1</th></tr>\n",
       "</thead>\n",
       "<tbody>\n",
       "\t<tr><th scope=row>Actual: default=0</th><td>262</td><td> 14</td></tr>\n",
       "\t<tr><th scope=row>Actual: default=1</th><td> 21</td><td>303</td></tr>\n",
       "</tbody>\n",
       "</table>\n"
      ],
      "text/latex": [
       "A matrix: 2 × 2 of type chr\n",
       "\\begin{tabular}{r|ll}\n",
       "  & Prediction: default=0 & Prediction: default=1\\\\\n",
       "\\hline\n",
       "\tActual: default=0 & 262 &  14\\\\\n",
       "\tActual: default=1 &  21 & 303\\\\\n",
       "\\end{tabular}\n"
      ],
      "text/markdown": [
       "\n",
       "A matrix: 2 × 2 of type chr\n",
       "\n",
       "| <!--/--> | Prediction: default=0 | Prediction: default=1 |\n",
       "|---|---|---|\n",
       "| Actual: default=0 | 262 |  14 |\n",
       "| Actual: default=1 |  21 | 303 |\n",
       "\n"
      ],
      "text/plain": [
       "                   depvar_pred\n",
       "                    Prediction: default=0 Prediction: default=1\n",
       "  Actual: default=0 262                    14                  \n",
       "  Actual: default=1  21                   303                  "
      ]
     },
     "metadata": {},
     "output_type": "display_data"
    }
   ],
   "source": [
    "# Predict default or no_default for the data set using the model\n",
    "default_model_data <- credit_default[c('credit_utilize', 'assets', 'missed_payment')]\n",
    "pred <- predict(logit, newdata=default_model_data, type='response')\n",
    "\n",
    "# If the predicted probability of default is >=0.50 then predict credit default (default='1'), otherwise predict no credit \n",
    "# default (default='0') \n",
    "depvar_pred = as.factor(ifelse(pred >= 0.5, '1', '0'))\n",
    "\n",
    "# This creates the confusion matrix\n",
    "conf.matrix <- table(credit_default$default, depvar_pred)[c('0','1'),c('0','1')]\n",
    "rownames(conf.matrix) <- paste(\"Actual\", rownames(conf.matrix), sep = \": default=\")\n",
    "colnames(conf.matrix) <- paste(\"Prediction\", colnames(conf.matrix), sep = \": default=\")\n",
    "\n",
    "# Print nicely formatted confusion matrix\n",
    "print(\"Confusion Matrix\")\n",
    "format(conf.matrix,justify=\"centre\",digit=2)"
   ]
  },
  {
   "cell_type": "code",
   "execution_count": 15,
   "metadata": {},
   "outputs": [
    {
     "name": "stderr",
     "output_type": "stream",
     "text": [
      "Setting levels: control = 0, case = 1\n",
      "Setting direction: controls < cases\n"
     ]
    },
    {
     "name": "stdout",
     "output_type": "stream",
     "text": [
      "[1] \"Area Under the Curve (AUC)\"\n"
     ]
    },
    {
     "data": {
      "text/html": [
       "0.9874"
      ],
      "text/latex": [
       "0.9874"
      ],
      "text/markdown": [
       "0.9874"
      ],
      "text/plain": [
       "[1] 0.9874"
      ]
     },
     "metadata": {},
     "output_type": "display_data"
    },
    {
     "name": "stdout",
     "output_type": "stream",
     "text": [
      "[1] \"ROC Curve\"\n"
     ]
    },
    {
     "data": {
      "image/png": "[encoded data removed]",
      "text/plain": [
       "plot without title"
      ]
     },
     "metadata": {},
     "output_type": "display_data"
    }
   ],
   "source": [
    "library(pROC)\n",
    "\n",
    "labels <- credit_default$default\n",
    "predictions <- logit$fitted.values\n",
    "\n",
    "roc <- roc(labels ~ predictions)\n",
    "\n",
    "print(\"Area Under the Curve (AUC)\")\n",
    "round(auc(roc),4)\n",
    "\n",
    "print(\"ROC Curve\")\n",
    "# True Positive Rate (Sensitivity) and False Positive Rate (1 - Specificity)\n",
    "plot(roc, legacy.axes = TRUE)"
   ]
  },
  {
   "cell_type": "code",
   "execution_count": 21,
   "metadata": {
    "scrolled": true
   },
   "outputs": [
    {
     "name": "stdout",
     "output_type": "stream",
     "text": [
      "[1] \"Prediction: Credit utilization is 35%, owns only a car, and has missed payments in the last 3 months\"\n"
     ]
    },
    {
     "data": {
      "text/html": [
       "<strong>1:</strong> 0.9529"
      ],
      "text/latex": [
       "\\textbf{1:} 0.9529"
      ],
      "text/markdown": [
       "**1:** 0.9529"
      ],
      "text/plain": [
       "     1 \n",
       "0.9529 "
      ]
     },
     "metadata": {},
     "output_type": "display_data"
    },
    {
     "name": "stdout",
     "output_type": "stream",
     "text": [
      "[1] \"Prediction: Credit utilization is 35%, owns a car and a house, and has not missed payments in the last 3 months\"\n"
     ]
    },
    {
     "data": {
      "text/html": [
       "<strong>1:</strong> 0.1986"
      ],
      "text/latex": [
       "\\textbf{1:} 0.1986"
      ],
      "text/markdown": [
       "**1:** 0.1986"
      ],
      "text/plain": [
       "     1 \n",
       "0.1986 "
      ]
     },
     "metadata": {},
     "output_type": "display_data"
    },
    {
     "name": "stdout",
     "output_type": "stream",
     "text": [
      "Odds for Scenario 1: 20.22098 \n",
      "Odds for Scenario 2: 0.2478421 \n"
     ]
    }
   ],
   "source": [
    "# Prediction 1\n",
    "print(\"Prediction: Credit utilization is 35%, owns only a car, and has missed payments in the last 3 months\")\n",
    "newdata1 <- data.frame(credit_utilize=0.35, assets=\"1\", missed_payment=\"1\")\n",
    "pred1 <- predict(logit, newdata1, type='response')\n",
    "round(pred1, 4)\n",
    "\n",
    "# Prediction 2\n",
    "print(\"Prediction: Credit utilization is 35%, owns a car and a house, and has not missed payments in the last 3 months\")\n",
    "newdata2 <- data.frame(credit_utilize=0.35, assets=\"3\", missed_payment=\"0\")\n",
    "pred2 <- predict(logit, newdata2, type='response')\n",
    "round(pred2, 4)\n",
    "\n",
    "# Calculate odds from probabilities\n",
    "odds1 <- pred1 / (1 - pred1)\n",
    "odds2 <- pred2 / (1 - pred2)\n",
    "\n",
    "# Print the odds\n",
    "cat(\"Odds for Scenario 1:\", odds1, \"\\n\")\n",
    "cat(\"Odds for Scenario 2:\", odds2, \"\\n\")\n",
    "\n",
    "\n",
    "\n"
   ]
  },
  {
   "cell_type": "markdown",
   "metadata": {
    "deletable": false,
    "editable": false
   },
   "source": [
    "## End of Module Five Jupyter Notebook\n",
    "Attach the HTML output along with your problem set report for the Module Five Problem Set. The HTML output can be downloaded by clicking **File**, then **Download as**, then **HTML**. Be sure to answer all of the questions in your problem set report. "
   ]
  },
  {
   "cell_type": "code",
   "execution_count": null,
   "metadata": {},
   "outputs": [],
   "source": []
  }
 ],
 "metadata": {
  "kernelspec": {
   "display_name": "R",
   "language": "R",
   "name": "ir"
  },
  "language_info": {
   "codemirror_mode": "r",
   "file_extension": ".r",
   "mimetype": "text/x-r-source",
   "name": "R",
   "pygments_lexer": "r",
   "version": "3.4.4"
  }
 },
 "nbformat": 4,
 "nbformat_minor": 2
}
